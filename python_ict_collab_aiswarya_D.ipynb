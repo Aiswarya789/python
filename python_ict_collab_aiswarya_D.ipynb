{
  "nbformat": 4,
  "nbformat_minor": 0,
  "metadata": {
    "colab": {
      "provenance": []
    },
    "kernelspec": {
      "name": "python3",
      "display_name": "Python 3"
    },
    "language_info": {
      "name": "python"
    }
  },
  "cells": [
    {
      "cell_type": "code",
      "source": [
        "k = ['a','b','c','d','e']\n",
        "print(k[-1:-7:-1])"
      ],
      "metadata": {
        "id": "e1wmA03nqfOF",
        "outputId": "1f66f4f1-3463-4ae0-ff2b-2cf497417b6f",
        "colab": {
          "base_uri": "https://localhost:8080/"
        }
      },
      "execution_count": null,
      "outputs": [
        {
          "output_type": "stream",
          "name": "stdout",
          "text": [
            "['e', 'd', 'c', 'b', 'a']\n"
          ]
        }
      ]
    },
    {
      "cell_type": "code",
      "source": [
        "list1 = [100,200,300,400,500]\n",
        "list1.reverse()\n",
        "print(list1)"
      ],
      "metadata": {
        "id": "LIGJ7qKuqoaD",
        "outputId": "453cb935-b604-4507-bd08-1ac73a3b7116",
        "colab": {
          "base_uri": "https://localhost:8080/"
        }
      },
      "execution_count": null,
      "outputs": [
        {
          "output_type": "stream",
          "name": "stdout",
          "text": [
            "[500, 400, 300, 200, 100]\n"
          ]
        }
      ]
    },
    {
      "cell_type": "code",
      "source": [
        "n=5\n",
        "square=n*n\n",
        "print(square)"
      ],
      "metadata": {
        "id": "zS0Mj6W0rY9X",
        "outputId": "605516a8-31b7-444d-a7ab-17944d727aab",
        "colab": {
          "base_uri": "https://localhost:8080/"
        }
      },
      "execution_count": null,
      "outputs": [
        {
          "output_type": "stream",
          "name": "stdout",
          "text": [
            "25\n"
          ]
        }
      ]
    },
    {
      "cell_type": "code",
      "source": [
        "from datetime import date\n",
        "current_date = date.today()\n",
        "print(\"current year:\",current_date.year)\n",
        "print(\"current month:\",current_date.month)\n",
        "print(\"current day:\",current_date.day)"
      ],
      "metadata": {
        "id": "0xapf5kMrij3",
        "outputId": "7bd88ffe-76bd-4914-d432-20ac5b42806e",
        "colab": {
          "base_uri": "https://localhost:8080/"
        }
      },
      "execution_count": null,
      "outputs": [
        {
          "output_type": "stream",
          "name": "stdout",
          "text": [
            "current year: 2022\n",
            "current month: 12\n",
            "current day: 12\n"
          ]
        }
      ]
    },
    {
      "cell_type": "code",
      "source": [
        "str = input(\"enter a string\")\n",
        "modified_string = str[::2]\n",
        "print(modified_string)\n"
      ],
      "metadata": {
        "id": "jY0lQ8iSsiAh",
        "outputId": "b86c7f11-237e-41e7-d9b6-d4cb633a1102",
        "colab": {
          "base_uri": "https://localhost:8080/"
        }
      },
      "execution_count": null,
      "outputs": [
        {
          "output_type": "stream",
          "name": "stdout",
          "text": [
            "enter a stringhellopython\n",
            "hloyhn\n"
          ]
        }
      ]
    },
    {
      "cell_type": "code",
      "source": [
        "\n",
        "  for i in range(1,6):\n",
        "    for j in range(1, i+1):\n",
        "      print(\"*\", end=\"\")\n",
        "    print()\n",
        "  for i in range(4, 0, -1):\n",
        "    for j in range(1, i+1):\n",
        "      print(\"*\",end=\"\")  \n",
        "    print()   \n",
        "\n"
      ],
      "metadata": {
        "id": "SZgdshdBtQbt",
        "outputId": "0d8e1328-c62f-4c7a-82e8-bccd3e5303ad",
        "colab": {
          "base_uri": "https://localhost:8080/"
        }
      },
      "execution_count": null,
      "outputs": [
        {
          "output_type": "stream",
          "name": "stdout",
          "text": [
            "*\n",
            "**\n",
            "***\n",
            "****\n",
            "*****\n",
            "****\n",
            "***\n",
            "**\n",
            "*\n"
          ]
        }
      ]
    },
    {
      "cell_type": "code",
      "source": [
        "def print_numbers(n):\n",
        "  if n==0:\n",
        "    print(n)\n",
        "    return\n",
        "  print(n)\n",
        "  print_numbers(n-1)\n",
        "num=10\n",
        "print_numbers(num)"
      ],
      "metadata": {
        "id": "yHlNRgMMwu-l",
        "outputId": "dbcf1594-a086-473e-ab7e-22158dc86784",
        "colab": {
          "base_uri": "https://localhost:8080/"
        }
      },
      "execution_count": null,
      "outputs": [
        {
          "output_type": "stream",
          "name": "stdout",
          "text": [
            "10\n",
            "9\n",
            "8\n",
            "7\n",
            "6\n",
            "5\n",
            "4\n",
            "3\n",
            "2\n",
            "1\n",
            "0\n"
          ]
        }
      ]
    },
    {
      "cell_type": "code",
      "source": [
        "list1 = [5,[10,15,[20,25,[20,35],40],45],50]\n",
        "pos = list1[1][2][2]\n",
        "del pos[1]\n",
        "pos.insert(1, 3500)\n",
        "print(list1)\n"
      ],
      "metadata": {
        "id": "8wh0G9w3x18e",
        "outputId": "064e3b9e-5e16-40e0-f04d-93c0fd1d003d",
        "colab": {
          "base_uri": "https://localhost:8080/"
        }
      },
      "execution_count": null,
      "outputs": [
        {
          "output_type": "stream",
          "name": "stdout",
          "text": [
            "[5, [10, 15, [20, 25, [20, 3500], 40], 45], 50]\n"
          ]
        }
      ]
    },
    {
      "cell_type": "code",
      "source": [
        "string = \"hello,universe!123\"\n",
        "i = 0\n",
        "while i < len(string):\n",
        "  if string[i].isalpha():\n",
        "    print(string[i], end=\"\")\n",
        "    i += 1"
      ],
      "metadata": {
        "id": "a7SsYcbByeug",
        "outputId": "06821822-f1c9-4e63-8898-ab4032e46b77",
        "colab": {
          "base_uri": "https://localhost:8080/"
        }
      },
      "execution_count": null,
      "outputs": [
        {
          "metadata": {
            "tags": null
          },
          "name": "stdout",
          "output_type": "stream",
          "text": [
            "hello"
          ]
        }
      ]
    }
  ]
}